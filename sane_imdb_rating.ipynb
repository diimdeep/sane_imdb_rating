{
 "cells": [
  {
   "cell_type": "code",
   "execution_count": 4,
   "metadata": {},
   "outputs": [
    {
     "name": "stdout",
     "output_type": "stream",
     "text": [
      "Requirement already satisfied: BeautifulSoup4 in /Users/dmitrywolf/.asdf/installs/python/3.9.4/lib/python3.9/site-packages (4.9.3)\n",
      "Collecting pandas\n",
      "  Downloading pandas-1.2.4-cp39-cp39-macosx_10_9_x86_64.whl (10.7 MB)\n",
      "Requirement already satisfied: matplotlib in /Users/dmitrywolf/.asdf/installs/python/3.9.4/lib/python3.9/site-packages (3.4.1)\n",
      "Requirement already satisfied: soupsieve>1.2; python_version >= \"3.0\" in /Users/dmitrywolf/.asdf/installs/python/3.9.4/lib/python3.9/site-packages (from BeautifulSoup4) (2.2.1)\n",
      "Collecting pytz>=2017.3\n",
      "  Downloading pytz-2021.1-py2.py3-none-any.whl (510 kB)\n",
      "Requirement already satisfied: python-dateutil>=2.7.3 in /Users/dmitrywolf/.asdf/installs/python/3.9.4/lib/python3.9/site-packages (from pandas) (2.8.1)\n",
      "Requirement already satisfied: numpy>=1.16.5 in /Users/dmitrywolf/.asdf/installs/python/3.9.4/lib/python3.9/site-packages (from pandas) (1.20.2)\n",
      "Requirement already satisfied: pyparsing>=2.2.1 in /Users/dmitrywolf/.asdf/installs/python/3.9.4/lib/python3.9/site-packages (from matplotlib) (2.4.7)\n",
      "Requirement already satisfied: kiwisolver>=1.0.1 in /Users/dmitrywolf/.asdf/installs/python/3.9.4/lib/python3.9/site-packages (from matplotlib) (1.3.1)\n",
      "Requirement already satisfied: cycler>=0.10 in /Users/dmitrywolf/.asdf/installs/python/3.9.4/lib/python3.9/site-packages (from matplotlib) (0.10.0)\n",
      "Requirement already satisfied: pillow>=6.2.0 in /Users/dmitrywolf/.asdf/installs/python/3.9.4/lib/python3.9/site-packages (from matplotlib) (8.2.0)\n",
      "Requirement already satisfied: six>=1.5 in /Users/dmitrywolf/.asdf/installs/python/3.9.4/lib/python3.9/site-packages (from python-dateutil>=2.7.3->pandas) (1.16.0)\n",
      "Installing collected packages: pytz, pandas\n",
      "Successfully installed pandas-1.2.4 pytz-2021.1\n"
     ]
    },
    {
     "name": "stderr",
     "output_type": "stream",
     "text": [
      "WARNING: You are using pip version 20.2.3; however, version 21.1.2 is available.\n",
      "You should consider upgrading via the '/Users/dmitrywolf/.asdf/installs/python/3.9.4/bin/python -m pip install --upgrade pip' command.\n"
     ]
    }
   ],
   "source": [
    "%%bash\n",
    "python3 -m pip install BeautifulSoup4 pandas matplotlib"
   ]
  },
  {
   "cell_type": "code",
   "execution_count": 2,
   "metadata": {},
   "outputs": [],
   "source": [
    "import pandas as pd\n",
    "import matplotlib\n",
    "import matplotlib.pyplot as plt\n",
    "%matplotlib inline\n",
    "\n",
    "import imdb_scraper.reviews\n",
    "import imdb_scraper.main\n",
    "import imdb_scraper.utils"
   ]
  },
  {
   "cell_type": "code",
   "execution_count": 3,
   "metadata": {},
   "outputs": [],
   "source": [
    "id = '2948372' # SOUL (2021)"
   ]
  },
  {
   "cell_type": "code",
   "execution_count": 23,
   "metadata": {},
   "outputs": [],
   "source": [
    "# print(imdb_scraper.main.parse_main(id))\n",
    "# print(\"reviews: \") \n",
    "# print(imdb_scraper.reviews.get_num_of_reviews(id))"
   ]
  },
  {
   "cell_type": "code",
   "execution_count": 24,
   "metadata": {},
   "outputs": [],
   "source": [
    "#soup = imdb_scraper.utils.get_soup(imdb_scraper.main.main_base.format(imdb_scraper.utils.idx_as_strf(id)))\n",
    "#soup.select('ul[data-testid=\"hero-title-block__metadata\"]')"
   ]
  },
  {
   "cell_type": "code",
   "execution_count": null,
   "metadata": {},
   "outputs": [],
   "source": [
    "pages = list(imdb_scraper.reviews.yield_reviews(id, max_page=0))\n",
    "\n",
    "reviews = []\n",
    "for page in pages:\n",
    "    for rew in page:\n",
    "        reviews.append(rew)"
   ]
  },
  {
   "cell_type": "code",
   "execution_count": null,
   "metadata": {},
   "outputs": [],
   "source": [
    "df = pd.DataFrame.from_records(reviews, coerce_float=True)"
   ]
  },
  {
   "cell_type": "code",
   "execution_count": 9,
   "metadata": {},
   "outputs": [
    {
     "name": "stdout",
     "output_type": "stream",
     "text": [
      "count    1686.000000\n",
      "mean        8.048043\n",
      "std         2.462913\n",
      "min         1.000000\n",
      "25%         7.000000\n",
      "50%         9.000000\n",
      "75%        10.000000\n",
      "max        10.000000\n",
      "Name: rating, dtype: float64\n"
     ]
    },
    {
     "data": {
      "text/plain": [
       "<AxesSubplot:>"
      ]
     },
     "execution_count": 9,
     "metadata": {},
     "output_type": "execute_result"
    },
    {
     "data": {
      "image/png": "[encoded data removed]",
      "text/plain": [
       "<Figure size 432x288 with 1 Axes>"
      ]
     },
     "metadata": {
      "needs_background": "light"
     },
     "output_type": "display_data"
    }
   ],
   "source": [
    "print(pd.to_numeric(df.rating).describe())\n",
    "\n",
    "pd.to_numeric(df.rating).hist()"
   ]
  },
  {
   "cell_type": "code",
   "execution_count": 18,
   "metadata": {},
   "outputs": [],
   "source": [
    "# TODO\n",
    "# nltk sentiment analysis"
   ]
  },
  {
   "cell_type": "code",
   "execution_count": null,
   "metadata": {},
   "outputs": [],
   "source": []
  }
 ],
 "metadata": {
  "kernelspec": {
   "display_name": "Python 3",
   "language": "python",
   "name": "python3"
  },
  "language_info": {
   "codemirror_mode": {
    "name": "ipython",
    "version": 3
   },
   "file_extension": ".py",
   "mimetype": "text/x-python",
   "name": "python",
   "nbconvert_exporter": "python",
   "pygments_lexer": "ipython3",
   "version": "3.9.5"
  }
 },
 "nbformat": 4,
 "nbformat_minor": 4
}
